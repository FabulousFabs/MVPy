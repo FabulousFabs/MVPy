{
 "cells": [
  {
   "cell_type": "code",
   "execution_count": 1,
   "id": "mathematical-sphere",
   "metadata": {},
   "outputs": [],
   "source": [
    "import numpy as np\n",
    "import torch\n",
    "\n",
    "import sys\n",
    "sys.path.append('../')\n",
    "import mvpy as mv"
   ]
  },
  {
   "cell_type": "code",
   "execution_count": 9,
   "id": "weighted-livestock",
   "metadata": {},
   "outputs": [],
   "source": [
    "x, y, z = 400, 60, 5\n",
    "\n",
    "a = np.random.normal(size = (x, y, z))\n",
    "b = np.random.normal(size = (x, y, z))"
   ]
  },
  {
   "cell_type": "code",
   "execution_count": 42,
   "id": "minimal-armstrong",
   "metadata": {},
   "outputs": [
    {
     "name": "stdout",
     "output_type": "stream",
     "text": [
      "923 µs ± 27.1 µs per loop (mean ± std. dev. of 7 runs, 1,000 loops each)\n",
      "1.99 ms ± 137 µs per loop (mean ± std. dev. of 7 runs, 1,000 loops each)\n",
      "3.48 ms ± 157 µs per loop (mean ± std. dev. of 7 runs, 100 loops each)\n",
      "233 ms ± 10.1 ms per loop (mean ± std. dev. of 7 runs, 1 loop each)\n"
     ]
    }
   ],
   "source": [
    "%timeit d = mv.math.euclidean(a, b)\n",
    "%timeit d = mv.math.cosine(a, b)\n",
    "%timeit d = mv.math.pearsonr(a, b)\n",
    "%timeit d = mv.math.spearmanr(a, b)"
   ]
  },
  {
   "cell_type": "code",
   "execution_count": 24,
   "id": "promotional-crime",
   "metadata": {},
   "outputs": [],
   "source": [
    "device = 'cpu'\n",
    "\n",
    "c, d = torch.from_numpy(a).to(torch.float32).to(device), torch.from_numpy(b).to(torch.float32).to(device)"
   ]
  },
  {
   "cell_type": "code",
   "execution_count": 44,
   "id": "revolutionary-exclusion",
   "metadata": {},
   "outputs": [
    {
     "name": "stdout",
     "output_type": "stream",
     "text": [
      "648 µs ± 35.5 µs per loop (mean ± std. dev. of 7 runs, 1,000 loops each)\n",
      "519 µs ± 26.2 µs per loop (mean ± std. dev. of 7 runs, 1,000 loops each)\n",
      "1.69 ms ± 29 µs per loop (mean ± std. dev. of 7 runs, 1,000 loops each)\n",
      "196 ms ± 8.1 ms per loop (mean ± std. dev. of 7 runs, 10 loops each)\n"
     ]
    }
   ],
   "source": [
    "%timeit r = mv.math.euclidean(c, d)\n",
    "%timeit r = mv.math.cosine(c, d)\n",
    "%timeit r = mv.math.pearsonr(c, d)\n",
    "%timeit r = mv.math.spearmanr(c, d)"
   ]
  },
  {
   "cell_type": "code",
   "execution_count": 20,
   "id": "typical-center",
   "metadata": {},
   "outputs": [],
   "source": [
    "device = 'mps'\n",
    "\n",
    "c, d = torch.from_numpy(a).to(torch.float32).to(device), torch.from_numpy(b).to(torch.float32).to(device)"
   ]
  },
  {
   "cell_type": "code",
   "execution_count": 46,
   "id": "backed-apartment",
   "metadata": {},
   "outputs": [
    {
     "name": "stdout",
     "output_type": "stream",
     "text": [
      "181 µs ± 700 ns per loop (mean ± std. dev. of 7 runs, 10,000 loops each)\n",
      "207 µs ± 5.08 µs per loop (mean ± std. dev. of 7 runs, 1,000 loops each)\n",
      "466 µs ± 7.97 µs per loop (mean ± std. dev. of 7 runs, 1,000 loops each)\n",
      "65.2 ms ± 253 µs per loop (mean ± std. dev. of 7 runs, 10 loops each)\n"
     ]
    }
   ],
   "source": [
    "%timeit r = mv.math.euclidean(c, d)\n",
    "%timeit r = mv.math.cosine(c, d)\n",
    "%timeit r = mv.math.pearsonr(c, d)\n",
    "%timeit r = mv.math.spearmanr(c, d)"
   ]
  },
  {
   "cell_type": "code",
   "execution_count": 47,
   "id": "collected-universal",
   "metadata": {},
   "outputs": [
    {
     "name": "stdout",
     "output_type": "stream",
     "text": [
      "239 ms ± 1.72 ms per loop (mean ± std. dev. of 7 runs, 1 loop each)\n",
      "123 ms ± 2.62 ms per loop (mean ± std. dev. of 7 runs, 10 loops each)\n",
      "32.5 ms ± 213 µs per loop (mean ± std. dev. of 7 runs, 10 loops each)\n"
     ]
    }
   ],
   "source": [
    "import scipy\n",
    "\n",
    "%timeit scipy.stats.rankdata(a, axis = -1)\n",
    "%timeit mv.math.rank(a)\n",
    "%timeit mv.math.rank(c)"
   ]
  },
  {
   "cell_type": "code",
   "execution_count": 55,
   "id": "respected-rough",
   "metadata": {},
   "outputs": [
    {
     "name": "stdout",
     "output_type": "stream",
     "text": [
      "0.02225208282470703\n"
     ]
    }
   ],
   "source": [
    "indx_i = torch.from_numpy(np.arange(x).repeat(x)).to(torch.int32).to(device)\n",
    "indx_j = torch.from_numpy(np.tile(np.arange(x), x)).to(torch.int32).to(device)\n",
    "\n",
    "import time\n",
    "ts = time.time()\n",
    "rdm = mv.math.pearsonr(c[indx_i], c[indx_j])\n",
    "te = time.time()\n",
    "\n",
    "print(te - ts)"
   ]
  },
  {
   "cell_type": "code",
   "execution_count": 60,
   "id": "perceived-district",
   "metadata": {},
   "outputs": [
    {
     "data": {
      "text/plain": [
       "((19900,), (19900,))"
      ]
     },
     "execution_count": 60,
     "metadata": {},
     "output_type": "execute_result"
    }
   ],
   "source": [
    "t0 = np.arange(x)\n",
    "t1 = np.arange(x)\n",
    "\n",
    "tx, ty = np.meshgrid(t0, t1)\n",
    "cx, cy = np.triu_indices(x, k = 1)\n",
    "indc_i, indc_j = tx.flatten()[cx], ty.flatten()[cy]\n",
    "\n",
    "#indc_i, indc_j = tx.flatten(), ty.flatten()\n",
    "indc_i.shape, indc_j.shape"
   ]
  },
  {
   "cell_type": "code",
   "execution_count": 63,
   "id": "international-genetics",
   "metadata": {},
   "outputs": [
    {
     "name": "stdout",
     "output_type": "stream",
     "text": [
      "74.2 ms ± 183 µs per loop (mean ± std. dev. of 7 runs, 10 loops each)\n"
     ]
    }
   ],
   "source": [
    "import time\n",
    "\n",
    "%timeit mv.math.pearsonr(c[indc_i], c[indc_j])"
   ]
  },
  {
   "cell_type": "code",
   "execution_count": 52,
   "id": "genetic-princess",
   "metadata": {},
   "outputs": [
    {
     "data": {
      "text/plain": [
       "(array([  0,   1,   2, ..., 197, 198, 199]),\n",
       " array([  0,   0,   0, ..., 199, 199, 199]))"
      ]
     },
     "execution_count": 52,
     "metadata": {},
     "output_type": "execute_result"
    }
   ],
   "source": [
    "indc_i, indc_j"
   ]
  },
  {
   "cell_type": "code",
   "execution_count": 12,
   "id": "further-tennessee",
   "metadata": {},
   "outputs": [
    {
     "data": {
      "text/plain": [
       "device(type='mps', index=0)"
      ]
     },
     "execution_count": 12,
     "metadata": {},
     "output_type": "execute_result"
    }
   ],
   "source": [
    "rdm.device"
   ]
  },
  {
   "cell_type": "code",
   "execution_count": 129,
   "id": "digital-president",
   "metadata": {},
   "outputs": [],
   "source": [
    "import sklearn\n",
    "\n",
    "from typing import Union\n",
    "from joblib import Parallel, delayed\n",
    "\n",
    "class RSA(sklearn.base.BaseEstimator):\n",
    "    def __init__(self, n_jobs: Union[int, None] = None):\n",
    "        '''\n",
    "        '''\n",
    "        \n",
    "        self.n_jobs = n_jobs\n",
    "    \n",
    "    def fit(self, X: torch.Tensor):\n",
    "        '''\n",
    "        '''\n",
    "        \n",
    "        return self\n",
    "    \n",
    "    def transform(self, X: torch.Tensor) -> torch.Tensor:\n",
    "        '''\n",
    "        '''\n",
    "        \n",
    "        # setup dimensions\n",
    "        dims = X.shape\n",
    "        N, F, T = dims[0], dims[-2], dims[-1]\n",
    "        \n",
    "        # setup indices\n",
    "        n = torch.arange(N)\n",
    "        nx, ny = torch.meshgrid(n, n, indexing = 'ij')\n",
    "        cx, cy = torch.triu_indices(N, N, offset = 1)\n",
    "        i, j = nx.flatten()[cx], ny.flatten()[cy]\n",
    "        \n",
    "        # compute RDM\n",
    "        r = torch.stack(Parallel(n_jobs = self.n_jobs)(delayed(mv.math.euclidean)(c.swapaxes(-2, -1)[i,...,k,:], c.swapaxes(-2, -1)[j,...,k,:]) for k in range(T)), dim = -1)\n",
    "        \n",
    "    def fit_transform(self, X: torch.Tensor) -> torch.Tensor:\n",
    "        '''\n",
    "        '''\n",
    "        \n",
    "        return self.fit(X).transform(X)"
   ]
  },
  {
   "cell_type": "code",
   "execution_count": 25,
   "id": "delayed-bishop",
   "metadata": {},
   "outputs": [],
   "source": [
    "X = c.clone()\n",
    "\n",
    "if True:\n",
    "    if True:\n",
    "        # setup dimensions\n",
    "        dims = X.shape\n",
    "        N, F, T = dims[0], dims[-2], dims[-1]\n",
    "        \n",
    "        # setup indices\n",
    "        n = torch.arange(N)\n",
    "        nx, ny = torch.meshgrid(n, n, indexing = 'ij')\n",
    "        cx, cy = torch.triu_indices(N, N, offset = 1)\n",
    "        i, j = nx.flatten()[cx].to(torch.int32).to(c.device), ny.flatten()[cy].to(torch.int32).to(c.device)"
   ]
  },
  {
   "cell_type": "code",
   "execution_count": 26,
   "id": "atmospheric-search",
   "metadata": {},
   "outputs": [
    {
     "name": "stdout",
     "output_type": "stream",
     "text": [
      "42.2 ms ± 418 µs per loop (mean ± std. dev. of 7 runs, 10 loops each)\n"
     ]
    }
   ],
   "source": [
    "f = mv.math.pearsonr\n",
    "\n",
    "%timeit r = torch.stack([f(c.swapaxes(-2, -1)[i,...,k,:], c.swapaxes(-2, -1)[j,...,k,:]) for k in range(T)], dim = -1)"
   ]
  },
  {
   "cell_type": "code",
   "execution_count": 23,
   "id": "threaded-processor",
   "metadata": {},
   "outputs": [
    {
     "name": "stdout",
     "output_type": "stream",
     "text": [
      "31.6 ms ± 563 µs per loop (mean ± std. dev. of 7 runs, 100 loops each)\n"
     ]
    }
   ],
   "source": [
    "f = mv.math.pearsonr\n",
    "\n",
    "%timeit r = torch.stack([f(c.swapaxes(-2, -1)[i,...,k,:], c.swapaxes(-2, -1)[j,...,k,:]) for k in range(T)], dim = -1)"
   ]
  },
  {
   "cell_type": "code",
   "execution_count": 7,
   "id": "accredited-muscle",
   "metadata": {},
   "outputs": [],
   "source": [
    "r = torch.stack([f(c.swapaxes(-2, -1)[i,...,k,:], c.swapaxes(-2, -1)[j,...,k,:]) for k in range(T)], dim = -1)"
   ]
  },
  {
   "cell_type": "code",
   "execution_count": 16,
   "id": "accompanied-optimization",
   "metadata": {},
   "outputs": [
    {
     "data": {
      "text/plain": [
       "(torch.Size([79800, 500]), torch.float32, device(type='mps', index=0))"
      ]
     },
     "execution_count": 16,
     "metadata": {},
     "output_type": "execute_result"
    }
   ],
   "source": [
    "r.shape, r.dtype, r.device"
   ]
  },
  {
   "cell_type": "code",
   "execution_count": null,
   "id": "touched-elephant",
   "metadata": {},
   "outputs": [],
   "source": [
    "%timeit r = mv.math.cosine(c.swapaxes(-2, -1)[i], c.swapaxes(-2, -1)[j])"
   ]
  },
  {
   "cell_type": "code",
   "execution_count": 158,
   "id": "romantic-divorce",
   "metadata": {},
   "outputs": [
    {
     "name": "stdout",
     "output_type": "stream",
     "text": [
      "579 ms ± 12 ms per loop (mean ± std. dev. of 7 runs, 1 loop each)\n"
     ]
    }
   ],
   "source": [
    "n_jobs = 1\n",
    "\n",
    "%timeit r = torch.stack(Parallel(n_jobs = n_jobs)(delayed(mv.math.euclidean)(c.swapaxes(-2, -1)[i,...,k,:], c.swapaxes(-2, -1)[j,...,k,:]) for k in range(T)), dim = -1)"
   ]
  },
  {
   "cell_type": "code",
   "execution_count": 159,
   "id": "interested-isaac",
   "metadata": {},
   "outputs": [
    {
     "name": "stdout",
     "output_type": "stream",
     "text": [
      "6.73 s ± 129 ms per loop (mean ± std. dev. of 7 runs, 1 loop each)\n"
     ]
    }
   ],
   "source": [
    "n_jobs = 8\n",
    "\n",
    "%timeit r = torch.stack(Parallel(n_jobs = n_jobs)(delayed(mv.math.euclidean)(c.swapaxes(-2, -1)[i,...,k,:], c.swapaxes(-2, -1)[j,...,k,:]) for k in range(T)), dim = -1)"
   ]
  },
  {
   "cell_type": "code",
   "execution_count": 130,
   "id": "comparable-marking",
   "metadata": {},
   "outputs": [],
   "source": [
    "RSA(n_jobs = None).fit_transform(c)"
   ]
  },
  {
   "cell_type": "code",
   "execution_count": 141,
   "id": "secure-harrison",
   "metadata": {},
   "outputs": [
    {
     "name": "stdout",
     "output_type": "stream",
     "text": [
      "484 ms ± 7.31 ms per loop (mean ± std. dev. of 7 runs, 1 loop each)\n"
     ]
    }
   ],
   "source": [
    "%timeit RSA(n_jobs = None).fit_transform(c)"
   ]
  },
  {
   "cell_type": "code",
   "execution_count": 132,
   "id": "adaptive-divide",
   "metadata": {},
   "outputs": [
    {
     "name": "stdout",
     "output_type": "stream",
     "text": [
      "6.7 s ± 126 ms per loop (mean ± std. dev. of 7 runs, 1 loop each)\n"
     ]
    }
   ],
   "source": [
    "%timeit RSA(n_jobs = 4).fit_transform(c)"
   ]
  },
  {
   "cell_type": "code",
   "execution_count": 98,
   "id": "emotional-albuquerque",
   "metadata": {},
   "outputs": [
    {
     "data": {
      "text/plain": [
       "torch.Size([200, 10, 100])"
      ]
     },
     "execution_count": 98,
     "metadata": {},
     "output_type": "execute_result"
    }
   ],
   "source": [
    "c.swapaxes(-2, -1).shape"
   ]
  },
  {
   "cell_type": "code",
   "execution_count": 71,
   "id": "raised-daily",
   "metadata": {},
   "outputs": [
    {
     "data": {
      "text/plain": [
       "tensor([[0, 0, 0, 0, 1, 1, 1, 2, 2, 3],\n",
       "        [1, 2, 3, 4, 2, 3, 4, 3, 4, 4]])"
      ]
     },
     "execution_count": 71,
     "metadata": {},
     "output_type": "execute_result"
    }
   ],
   "source": [
    "n = torch.arange(N)\n",
    "nx, ny = torch.meshgrid(n, n, indexing = 'ij')\n",
    "cx, cy = torch.triu_indices(5, 5, offset = 1)\n",
    "i, j = nx.flatten()[cx], ny.flatten()[cy]\n"
   ]
  },
  {
   "cell_type": "code",
   "execution_count": 73,
   "id": "recent-morris",
   "metadata": {},
   "outputs": [
    {
     "data": {
      "text/plain": [
       "tensor([0, 0, 1, 1])"
      ]
     },
     "execution_count": 73,
     "metadata": {},
     "output_type": "execute_result"
    }
   ],
   "source": []
  },
  {
   "cell_type": "code",
   "execution_count": 62,
   "id": "seasonal-premium",
   "metadata": {},
   "outputs": [
    {
     "ename": "RuntimeError",
     "evalue": "shape '[200, 200, 50]' is invalid for input of size 995000",
     "output_type": "error",
     "traceback": [
      "\u001b[0;31m---------------------------------------------------------------------------\u001b[0m",
      "\u001b[0;31mRuntimeError\u001b[0m                              Traceback (most recent call last)",
      "Cell \u001b[0;32mIn[62], line 2\u001b[0m\n\u001b[1;32m      1\u001b[0m \u001b[38;5;28;01mimport\u001b[39;00m \u001b[38;5;21;01mmatplotlib\u001b[39;00m\u001b[38;5;21;01m.\u001b[39;00m\u001b[38;5;21;01mpyplot\u001b[39;00m \u001b[38;5;28;01mas\u001b[39;00m \u001b[38;5;21;01mplt\u001b[39;00m\n\u001b[0;32m----> 2\u001b[0m plt\u001b[38;5;241m.\u001b[39mimshow(\u001b[43mrdm\u001b[49m\u001b[38;5;241;43m.\u001b[39;49m\u001b[43mreshape\u001b[49m\u001b[43m(\u001b[49m\u001b[43m(\u001b[49m\u001b[43mx\u001b[49m\u001b[43m,\u001b[49m\u001b[43m \u001b[49m\u001b[43mx\u001b[49m\u001b[43m,\u001b[49m\u001b[43m \u001b[49m\u001b[43my\u001b[49m\u001b[43m)\u001b[49m\u001b[43m)\u001b[49m[:,:,\u001b[38;5;241m0\u001b[39m]\u001b[38;5;241m.\u001b[39mcpu()\u001b[38;5;241m.\u001b[39mnumpy())\n",
      "\u001b[0;31mRuntimeError\u001b[0m: shape '[200, 200, 50]' is invalid for input of size 995000"
     ]
    }
   ],
   "source": [
    "import matplotlib.pyplot as plt\n",
    "plt.imshow(rdm.reshape((x, x, y))[:,:,0].cpu().numpy())"
   ]
  }
 ],
 "metadata": {
  "kernelspec": {
   "display_name": "sempriors",
   "language": "python",
   "name": "sempriors"
  },
  "language_info": {
   "codemirror_mode": {
    "name": "ipython",
    "version": 3
   },
   "file_extension": ".py",
   "mimetype": "text/x-python",
   "name": "python",
   "nbconvert_exporter": "python",
   "pygments_lexer": "ipython3",
   "version": "3.10.9"
  }
 },
 "nbformat": 4,
 "nbformat_minor": 5
}
