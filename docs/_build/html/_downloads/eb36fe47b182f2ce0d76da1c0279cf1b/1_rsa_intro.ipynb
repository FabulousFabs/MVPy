{
  "cells": [
    {
      "cell_type": "markdown",
      "metadata": {},
      "source": [
        "\n# 1. Computing RDMs\n\nBefore we turn to real data, we'll briefly familiarise ourselves with the syntax around computing RDMs.\n"
      ]
    },
    {
      "cell_type": "markdown",
      "metadata": {},
      "source": [
        "Now, let's do some imports:\n\n"
      ]
    },
    {
      "cell_type": "code",
      "execution_count": null,
      "metadata": {
        "collapsed": false
      },
      "outputs": [],
      "source": [
        "import torch\nimport matplotlib.pyplot as plt\n\nfrom mvpy.estimators import RSA\nfrom mvpy.math import euclidean"
      ]
    },
    {
      "cell_type": "markdown",
      "metadata": {},
      "source": [
        "Let's begin by simulating some data.\n\n"
      ]
    },
    {
      "cell_type": "code",
      "execution_count": null,
      "metadata": {
        "collapsed": false
      },
      "outputs": [],
      "source": [
        "trials, channels, timepoints = 240, 60, 100\nX = torch.normal(0, 1, (trials, channels, timepoints))\n\n# Because we want to see some structure in our RDMs, let's create some similarity.\nX = X * torch.sin(2 * torch.pi * torch.linspace(0, 1, trials))[:,None,None]"
      ]
    },
    {
      "cell_type": "markdown",
      "metadata": {},
      "source": [
        "Given our structured data, we are ready to compute our RDM.\n\n"
      ]
    },
    {
      "cell_type": "code",
      "execution_count": null,
      "metadata": {
        "collapsed": false
      },
      "outputs": [],
      "source": [
        "rsa = RSA(estimator = euclidean).fit(X)\nrsa.transform(X)\nprint(rsa.rdm_.shape)"
      ]
    },
    {
      "cell_type": "markdown",
      "metadata": {},
      "source": [
        "As you can see, the RDM is now stacked with all comparisons in the first dimension and only the time domain remaining. This is convenient for modeling and model comparisons, but for now we would like to see the full RDM.\n\n"
      ]
    },
    {
      "cell_type": "code",
      "execution_count": null,
      "metadata": {
        "collapsed": false
      },
      "outputs": [],
      "source": [
        "rdm = torch.zeros((trials, trials, timepoints))\nrdm[rsa.cx_, rsa.cy_] = rdm[rsa.cy_, rsa.cx_ ] = rsa.rdm_\n\nvmax = torch.abs(rsa.rdm_).max()\nfig, ax = plt.subplots()\nax.imshow(rdm[...,0], vmin = -vmax, vmax = vmax, cmap = 'RdBu_r')"
      ]
    }
  ],
  "metadata": {
    "kernelspec": {
      "display_name": "Python 3",
      "language": "python",
      "name": "python3"
    },
    "language_info": {
      "codemirror_mode": {
        "name": "ipython",
        "version": 3
      },
      "file_extension": ".py",
      "mimetype": "text/x-python",
      "name": "python",
      "nbconvert_exporter": "python",
      "pygments_lexer": "ipython3",
      "version": "3.10.9"
    }
  },
  "nbformat": 4,
  "nbformat_minor": 0
}